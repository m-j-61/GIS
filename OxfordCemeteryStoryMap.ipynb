{
  "nbformat": 4,
  "nbformat_minor": 0,
  "metadata": {
    "colab": {
      "provenance": [],
      "authorship_tag": "ABX9TyM+VhxNNO93sFouzcWJH2/T",
      "include_colab_link": true
    },
    "kernelspec": {
      "name": "python3",
      "display_name": "Python 3"
    },
    "language_info": {
      "name": "python"
    }
  },
  "cells": [
    {
      "cell_type": "markdown",
      "metadata": {
        "id": "view-in-github",
        "colab_type": "text"
      },
      "source": [
        "<a href=\"https://colab.research.google.com/github/m-j-61/GIS/blob/main/OxfordCemeteryStoryMap.ipynb\" target=\"_parent\"><img src=\"https://colab.research.google.com/assets/colab-badge.svg\" alt=\"Open In Colab\"/></a>"
      ]
    },
    {
      "cell_type": "code",
      "execution_count": null,
      "metadata": {
        "id": "1W5k0oofsBZa"
      },
      "outputs": [],
      "source": []
    },
    {
      "cell_type": "markdown",
      "source": [
        "Below is a link to the product of my semester project for my Advanced Geographic Information Systems course. In this project, we created a database for Oxford, Ohio's Cemetery. This project was also featured in an article by ESRI."
      ],
      "metadata": {
        "id": "t9_bCX6DsP1a"
      }
    },
    {
      "cell_type": "markdown",
      "source": [
        "[My StoryMap](https://storymaps.arcgis.com/stories/6daa596b30814d80a39c22f0d3553b73)\n",
        "\n",
        "[Esri's article](https://www.esri.com/about/newsroom/arcuser/connecting-past-and-present-in-an-ohio-cemetery)"
      ],
      "metadata": {
        "id": "Np75gzhcsOhL"
      }
    },
    {
      "cell_type": "code",
      "source": [],
      "metadata": {
        "id": "cO8x5fZisL5N"
      },
      "execution_count": null,
      "outputs": []
    }
  ]
}